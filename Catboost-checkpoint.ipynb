{
 "cells": [
  {
   "cell_type": "code",
   "execution_count": 4,
   "id": "9a2e4d54",
   "metadata": {},
   "outputs": [],
   "source": [
    "import numpy as np \n",
    "import pandas as pd \n",
    "import matplotlib.pyplot as plt\n",
    "import seaborn as sns\n",
    "%matplotlib inline"
   ]
  },
  {
   "cell_type": "code",
   "execution_count": 13,
   "id": "298ded47",
   "metadata": {},
   "outputs": [],
   "source": [
    "data=pd.read_excel(r\"C:\\Users\\m.priyanka\\Desktop\\hyd dataset.xlsx\")"
   ]
  },
  {
   "cell_type": "code",
   "execution_count": 14,
   "id": "501a034b",
   "metadata": {},
   "outputs": [
    {
     "data": {
      "text/html": [
       "<div>\n",
       "<style scoped>\n",
       "    .dataframe tbody tr th:only-of-type {\n",
       "        vertical-align: middle;\n",
       "    }\n",
       "\n",
       "    .dataframe tbody tr th {\n",
       "        vertical-align: top;\n",
       "    }\n",
       "\n",
       "    .dataframe thead th {\n",
       "        text-align: right;\n",
       "    }\n",
       "</style>\n",
       "<table border=\"1\" class=\"dataframe\">\n",
       "  <thead>\n",
       "    <tr style=\"text-align: right;\">\n",
       "      <th></th>\n",
       "      <th>TotalLandSize(Sq.Ft)</th>\n",
       "      <th>SlabareaofConstruction</th>\n",
       "      <th>BuildingAge(Years)</th>\n",
       "      <th>HouseType</th>\n",
       "      <th>FloorNumber</th>\n",
       "      <th>BHKcount</th>\n",
       "      <th>BathroomsCount</th>\n",
       "      <th>MainDoorFacing</th>\n",
       "      <th>Furnishing</th>\n",
       "      <th>DiningHallAvailability</th>\n",
       "      <th>...</th>\n",
       "      <th>DiningRoom</th>\n",
       "      <th>Kitchen</th>\n",
       "      <th>BHK 1</th>\n",
       "      <th>BHK 2</th>\n",
       "      <th>BHK 3</th>\n",
       "      <th>Bathroom 1</th>\n",
       "      <th>Bathroom 2</th>\n",
       "      <th>Bathroom 3</th>\n",
       "      <th>Balcony</th>\n",
       "      <th>SellingPriceInCr</th>\n",
       "    </tr>\n",
       "  </thead>\n",
       "  <tbody>\n",
       "    <tr>\n",
       "      <th>0</th>\n",
       "      <td>3200</td>\n",
       "      <td>2600</td>\n",
       "      <td>4</td>\n",
       "      <td>independent</td>\n",
       "      <td>1</td>\n",
       "      <td>3</td>\n",
       "      <td>3</td>\n",
       "      <td>East</td>\n",
       "      <td>Fully Furnished</td>\n",
       "      <td>Yes</td>\n",
       "      <td>...</td>\n",
       "      <td>NaN</td>\n",
       "      <td>NaN</td>\n",
       "      <td>NaN</td>\n",
       "      <td>NaN</td>\n",
       "      <td>NaN</td>\n",
       "      <td>NaN</td>\n",
       "      <td>NaN</td>\n",
       "      <td>NaN</td>\n",
       "      <td>NaN</td>\n",
       "      <td>1.60</td>\n",
       "    </tr>\n",
       "    <tr>\n",
       "      <th>1</th>\n",
       "      <td>2500</td>\n",
       "      <td>2000</td>\n",
       "      <td>1</td>\n",
       "      <td>independent</td>\n",
       "      <td>1</td>\n",
       "      <td>2</td>\n",
       "      <td>2</td>\n",
       "      <td>East</td>\n",
       "      <td>Semi-furnished</td>\n",
       "      <td>No</td>\n",
       "      <td>...</td>\n",
       "      <td>NaN</td>\n",
       "      <td>NaN</td>\n",
       "      <td>NaN</td>\n",
       "      <td>NaN</td>\n",
       "      <td>NaN</td>\n",
       "      <td>NaN</td>\n",
       "      <td>NaN</td>\n",
       "      <td>NaN</td>\n",
       "      <td>NaN</td>\n",
       "      <td>1.35</td>\n",
       "    </tr>\n",
       "    <tr>\n",
       "      <th>2</th>\n",
       "      <td>2500</td>\n",
       "      <td>2250</td>\n",
       "      <td>1</td>\n",
       "      <td>independent</td>\n",
       "      <td>1</td>\n",
       "      <td>4</td>\n",
       "      <td>4</td>\n",
       "      <td>North</td>\n",
       "      <td>unfurnished</td>\n",
       "      <td>No</td>\n",
       "      <td>...</td>\n",
       "      <td>NaN</td>\n",
       "      <td>NaN</td>\n",
       "      <td>NaN</td>\n",
       "      <td>NaN</td>\n",
       "      <td>NaN</td>\n",
       "      <td>NaN</td>\n",
       "      <td>NaN</td>\n",
       "      <td>NaN</td>\n",
       "      <td>NaN</td>\n",
       "      <td>0.92</td>\n",
       "    </tr>\n",
       "    <tr>\n",
       "      <th>3</th>\n",
       "      <td>5771</td>\n",
       "      <td>5350</td>\n",
       "      <td>1</td>\n",
       "      <td>independent</td>\n",
       "      <td>2</td>\n",
       "      <td>8</td>\n",
       "      <td>8</td>\n",
       "      <td>East</td>\n",
       "      <td>unfurnished</td>\n",
       "      <td>No</td>\n",
       "      <td>...</td>\n",
       "      <td>NaN</td>\n",
       "      <td>NaN</td>\n",
       "      <td>NaN</td>\n",
       "      <td>NaN</td>\n",
       "      <td>NaN</td>\n",
       "      <td>NaN</td>\n",
       "      <td>NaN</td>\n",
       "      <td>NaN</td>\n",
       "      <td>NaN</td>\n",
       "      <td>2.80</td>\n",
       "    </tr>\n",
       "    <tr>\n",
       "      <th>4</th>\n",
       "      <td>3500</td>\n",
       "      <td>3000</td>\n",
       "      <td>3</td>\n",
       "      <td>independent</td>\n",
       "      <td>2</td>\n",
       "      <td>6</td>\n",
       "      <td>6</td>\n",
       "      <td>West</td>\n",
       "      <td>unfurnished</td>\n",
       "      <td>No</td>\n",
       "      <td>...</td>\n",
       "      <td>NaN</td>\n",
       "      <td>NaN</td>\n",
       "      <td>NaN</td>\n",
       "      <td>NaN</td>\n",
       "      <td>NaN</td>\n",
       "      <td>NaN</td>\n",
       "      <td>NaN</td>\n",
       "      <td>NaN</td>\n",
       "      <td>NaN</td>\n",
       "      <td>1.55</td>\n",
       "    </tr>\n",
       "  </tbody>\n",
       "</table>\n",
       "<p>5 rows × 27 columns</p>\n",
       "</div>"
      ],
      "text/plain": [
       "   TotalLandSize(Sq.Ft)  SlabareaofConstruction  BuildingAge(Years)  \\\n",
       "0                  3200                    2600                   4   \n",
       "1                  2500                    2000                   1   \n",
       "2                  2500                    2250                   1   \n",
       "3                  5771                    5350                   1   \n",
       "4                  3500                    3000                   3   \n",
       "\n",
       "     HouseType  FloorNumber  BHKcount  BathroomsCount MainDoorFacing  \\\n",
       "0  independent            1         3               3           East   \n",
       "1  independent            1         2               2           East   \n",
       "2  independent            1         4               4          North   \n",
       "3  independent            2         8               8           East   \n",
       "4  independent            2         6               6           West   \n",
       "\n",
       "        Furnishing DiningHallAvailability  ... DiningRoom Kitchen BHK 1 BHK 2  \\\n",
       "0  Fully Furnished                    Yes  ...        NaN     NaN   NaN   NaN   \n",
       "1   Semi-furnished                     No  ...        NaN     NaN   NaN   NaN   \n",
       "2      unfurnished                     No  ...        NaN     NaN   NaN   NaN   \n",
       "3      unfurnished                     No  ...        NaN     NaN   NaN   NaN   \n",
       "4      unfurnished                     No  ...        NaN     NaN   NaN   NaN   \n",
       "\n",
       "  BHK 3  Bathroom 1  Bathroom 2  Bathroom 3  Balcony  SellingPriceInCr  \n",
       "0   NaN         NaN         NaN         NaN      NaN              1.60  \n",
       "1   NaN         NaN         NaN         NaN      NaN              1.35  \n",
       "2   NaN         NaN         NaN         NaN      NaN              0.92  \n",
       "3   NaN         NaN         NaN         NaN      NaN              2.80  \n",
       "4   NaN         NaN         NaN         NaN      NaN              1.55  \n",
       "\n",
       "[5 rows x 27 columns]"
      ]
     },
     "execution_count": 14,
     "metadata": {},
     "output_type": "execute_result"
    }
   ],
   "source": [
    "data.head()"
   ]
  },
  {
   "cell_type": "code",
   "execution_count": 15,
   "id": "a3f22670",
   "metadata": {},
   "outputs": [
    {
     "data": {
      "text/html": [
       "<div>\n",
       "<style scoped>\n",
       "    .dataframe tbody tr th:only-of-type {\n",
       "        vertical-align: middle;\n",
       "    }\n",
       "\n",
       "    .dataframe tbody tr th {\n",
       "        vertical-align: top;\n",
       "    }\n",
       "\n",
       "    .dataframe thead th {\n",
       "        text-align: right;\n",
       "    }\n",
       "</style>\n",
       "<table border=\"1\" class=\"dataframe\">\n",
       "  <thead>\n",
       "    <tr style=\"text-align: right;\">\n",
       "      <th></th>\n",
       "      <th>TotalLandSize(Sq.Ft)</th>\n",
       "      <th>SlabareaofConstruction</th>\n",
       "      <th>BuildingAge(Years)</th>\n",
       "      <th>FloorNumber</th>\n",
       "      <th>BHKcount</th>\n",
       "      <th>BathroomsCount</th>\n",
       "      <th>Front - View</th>\n",
       "      <th>LivingRoom</th>\n",
       "      <th>DiningRoom</th>\n",
       "      <th>Kitchen</th>\n",
       "      <th>BHK 1</th>\n",
       "      <th>BHK 2</th>\n",
       "      <th>Bathroom 1</th>\n",
       "      <th>Bathroom 3</th>\n",
       "      <th>Balcony</th>\n",
       "      <th>SellingPriceInCr</th>\n",
       "    </tr>\n",
       "  </thead>\n",
       "  <tbody>\n",
       "    <tr>\n",
       "      <th>count</th>\n",
       "      <td>28.000000</td>\n",
       "      <td>28.000000</td>\n",
       "      <td>28.000000</td>\n",
       "      <td>28.000000</td>\n",
       "      <td>28.000000</td>\n",
       "      <td>28.000000</td>\n",
       "      <td>0.0</td>\n",
       "      <td>0.0</td>\n",
       "      <td>0.0</td>\n",
       "      <td>0.0</td>\n",
       "      <td>0.0</td>\n",
       "      <td>0.0</td>\n",
       "      <td>0.0</td>\n",
       "      <td>0.0</td>\n",
       "      <td>0.0</td>\n",
       "      <td>28.000000</td>\n",
       "    </tr>\n",
       "    <tr>\n",
       "      <th>mean</th>\n",
       "      <td>2711.357143</td>\n",
       "      <td>2442.321429</td>\n",
       "      <td>6.071429</td>\n",
       "      <td>2.321429</td>\n",
       "      <td>3.607143</td>\n",
       "      <td>3.607143</td>\n",
       "      <td>NaN</td>\n",
       "      <td>NaN</td>\n",
       "      <td>NaN</td>\n",
       "      <td>NaN</td>\n",
       "      <td>NaN</td>\n",
       "      <td>NaN</td>\n",
       "      <td>NaN</td>\n",
       "      <td>NaN</td>\n",
       "      <td>NaN</td>\n",
       "      <td>1.985000</td>\n",
       "    </tr>\n",
       "    <tr>\n",
       "      <th>std</th>\n",
       "      <td>1680.506256</td>\n",
       "      <td>1573.706784</td>\n",
       "      <td>8.348558</td>\n",
       "      <td>2.855191</td>\n",
       "      <td>1.791736</td>\n",
       "      <td>1.685214</td>\n",
       "      <td>NaN</td>\n",
       "      <td>NaN</td>\n",
       "      <td>NaN</td>\n",
       "      <td>NaN</td>\n",
       "      <td>NaN</td>\n",
       "      <td>NaN</td>\n",
       "      <td>NaN</td>\n",
       "      <td>NaN</td>\n",
       "      <td>NaN</td>\n",
       "      <td>1.426992</td>\n",
       "    </tr>\n",
       "    <tr>\n",
       "      <th>min</th>\n",
       "      <td>540.000000</td>\n",
       "      <td>460.000000</td>\n",
       "      <td>1.000000</td>\n",
       "      <td>0.000000</td>\n",
       "      <td>1.000000</td>\n",
       "      <td>1.000000</td>\n",
       "      <td>NaN</td>\n",
       "      <td>NaN</td>\n",
       "      <td>NaN</td>\n",
       "      <td>NaN</td>\n",
       "      <td>NaN</td>\n",
       "      <td>NaN</td>\n",
       "      <td>NaN</td>\n",
       "      <td>NaN</td>\n",
       "      <td>NaN</td>\n",
       "      <td>0.220000</td>\n",
       "    </tr>\n",
       "    <tr>\n",
       "      <th>25%</th>\n",
       "      <td>1383.500000</td>\n",
       "      <td>1100.000000</td>\n",
       "      <td>1.000000</td>\n",
       "      <td>1.000000</td>\n",
       "      <td>2.000000</td>\n",
       "      <td>2.000000</td>\n",
       "      <td>NaN</td>\n",
       "      <td>NaN</td>\n",
       "      <td>NaN</td>\n",
       "      <td>NaN</td>\n",
       "      <td>NaN</td>\n",
       "      <td>NaN</td>\n",
       "      <td>NaN</td>\n",
       "      <td>NaN</td>\n",
       "      <td>NaN</td>\n",
       "      <td>0.885000</td>\n",
       "    </tr>\n",
       "    <tr>\n",
       "      <th>50%</th>\n",
       "      <td>2600.000000</td>\n",
       "      <td>2175.000000</td>\n",
       "      <td>2.500000</td>\n",
       "      <td>1.500000</td>\n",
       "      <td>4.000000</td>\n",
       "      <td>4.000000</td>\n",
       "      <td>NaN</td>\n",
       "      <td>NaN</td>\n",
       "      <td>NaN</td>\n",
       "      <td>NaN</td>\n",
       "      <td>NaN</td>\n",
       "      <td>NaN</td>\n",
       "      <td>NaN</td>\n",
       "      <td>NaN</td>\n",
       "      <td>NaN</td>\n",
       "      <td>1.575000</td>\n",
       "    </tr>\n",
       "    <tr>\n",
       "      <th>75%</th>\n",
       "      <td>3200.000000</td>\n",
       "      <td>2850.000000</td>\n",
       "      <td>6.750000</td>\n",
       "      <td>2.250000</td>\n",
       "      <td>4.000000</td>\n",
       "      <td>4.250000</td>\n",
       "      <td>NaN</td>\n",
       "      <td>NaN</td>\n",
       "      <td>NaN</td>\n",
       "      <td>NaN</td>\n",
       "      <td>NaN</td>\n",
       "      <td>NaN</td>\n",
       "      <td>NaN</td>\n",
       "      <td>NaN</td>\n",
       "      <td>NaN</td>\n",
       "      <td>3.100000</td>\n",
       "    </tr>\n",
       "    <tr>\n",
       "      <th>max</th>\n",
       "      <td>8000.000000</td>\n",
       "      <td>7000.000000</td>\n",
       "      <td>30.000000</td>\n",
       "      <td>15.000000</td>\n",
       "      <td>8.000000</td>\n",
       "      <td>8.000000</td>\n",
       "      <td>NaN</td>\n",
       "      <td>NaN</td>\n",
       "      <td>NaN</td>\n",
       "      <td>NaN</td>\n",
       "      <td>NaN</td>\n",
       "      <td>NaN</td>\n",
       "      <td>NaN</td>\n",
       "      <td>NaN</td>\n",
       "      <td>NaN</td>\n",
       "      <td>5.500000</td>\n",
       "    </tr>\n",
       "  </tbody>\n",
       "</table>\n",
       "</div>"
      ],
      "text/plain": [
       "       TotalLandSize(Sq.Ft)  SlabareaofConstruction  BuildingAge(Years)  \\\n",
       "count             28.000000               28.000000           28.000000   \n",
       "mean            2711.357143             2442.321429            6.071429   \n",
       "std             1680.506256             1573.706784            8.348558   \n",
       "min              540.000000              460.000000            1.000000   \n",
       "25%             1383.500000             1100.000000            1.000000   \n",
       "50%             2600.000000             2175.000000            2.500000   \n",
       "75%             3200.000000             2850.000000            6.750000   \n",
       "max             8000.000000             7000.000000           30.000000   \n",
       "\n",
       "       FloorNumber   BHKcount  BathroomsCount  Front - View  LivingRoom   \\\n",
       "count    28.000000  28.000000       28.000000           0.0          0.0   \n",
       "mean      2.321429   3.607143        3.607143           NaN          NaN   \n",
       "std       2.855191   1.791736        1.685214           NaN          NaN   \n",
       "min       0.000000   1.000000        1.000000           NaN          NaN   \n",
       "25%       1.000000   2.000000        2.000000           NaN          NaN   \n",
       "50%       1.500000   4.000000        4.000000           NaN          NaN   \n",
       "75%       2.250000   4.000000        4.250000           NaN          NaN   \n",
       "max      15.000000   8.000000        8.000000           NaN          NaN   \n",
       "\n",
       "       DiningRoom  Kitchen  BHK 1  BHK 2  Bathroom 1  Bathroom 3  Balcony  \\\n",
       "count         0.0      0.0    0.0    0.0         0.0         0.0      0.0   \n",
       "mean          NaN      NaN    NaN    NaN         NaN         NaN      NaN   \n",
       "std           NaN      NaN    NaN    NaN         NaN         NaN      NaN   \n",
       "min           NaN      NaN    NaN    NaN         NaN         NaN      NaN   \n",
       "25%           NaN      NaN    NaN    NaN         NaN         NaN      NaN   \n",
       "50%           NaN      NaN    NaN    NaN         NaN         NaN      NaN   \n",
       "75%           NaN      NaN    NaN    NaN         NaN         NaN      NaN   \n",
       "max           NaN      NaN    NaN    NaN         NaN         NaN      NaN   \n",
       "\n",
       "       SellingPriceInCr  \n",
       "count         28.000000  \n",
       "mean           1.985000  \n",
       "std            1.426992  \n",
       "min            0.220000  \n",
       "25%            0.885000  \n",
       "50%            1.575000  \n",
       "75%            3.100000  \n",
       "max            5.500000  "
      ]
     },
     "execution_count": 15,
     "metadata": {},
     "output_type": "execute_result"
    }
   ],
   "source": [
    "data.describe()"
   ]
  },
  {
   "cell_type": "code",
   "execution_count": 21,
   "id": "6fa1f001",
   "metadata": {},
   "outputs": [],
   "source": [
    "train=data.drop(['GardenAvailibility','Front - View','LivingRoom ','DiningRoom','Kitchen','BHK 1','BHK 2','BHK 3','Bathroom 1','Bathroom 2','Bathroom 3','Balcony','SellingPriceInCr'],axis=1)"
   ]
  },
  {
   "cell_type": "code",
   "execution_count": 22,
   "id": "eabd9546",
   "metadata": {},
   "outputs": [
    {
     "data": {
      "text/html": [
       "<div>\n",
       "<style scoped>\n",
       "    .dataframe tbody tr th:only-of-type {\n",
       "        vertical-align: middle;\n",
       "    }\n",
       "\n",
       "    .dataframe tbody tr th {\n",
       "        vertical-align: top;\n",
       "    }\n",
       "\n",
       "    .dataframe thead th {\n",
       "        text-align: right;\n",
       "    }\n",
       "</style>\n",
       "<table border=\"1\" class=\"dataframe\">\n",
       "  <thead>\n",
       "    <tr style=\"text-align: right;\">\n",
       "      <th></th>\n",
       "      <th>TotalLandSize(Sq.Ft)</th>\n",
       "      <th>SlabareaofConstruction</th>\n",
       "      <th>BuildingAge(Years)</th>\n",
       "      <th>HouseType</th>\n",
       "      <th>FloorNumber</th>\n",
       "      <th>BHKcount</th>\n",
       "      <th>BathroomsCount</th>\n",
       "      <th>MainDoorFacing</th>\n",
       "      <th>Furnishing</th>\n",
       "      <th>DiningHallAvailability</th>\n",
       "      <th>ParkingLotAvailability</th>\n",
       "      <th>BalconyAvailability</th>\n",
       "      <th>Locality/Street</th>\n",
       "      <th>City/Town</th>\n",
       "    </tr>\n",
       "  </thead>\n",
       "  <tbody>\n",
       "    <tr>\n",
       "      <th>0</th>\n",
       "      <td>3200</td>\n",
       "      <td>2600</td>\n",
       "      <td>4</td>\n",
       "      <td>independent</td>\n",
       "      <td>1</td>\n",
       "      <td>3</td>\n",
       "      <td>3</td>\n",
       "      <td>East</td>\n",
       "      <td>Fully Furnished</td>\n",
       "      <td>Yes</td>\n",
       "      <td>yes</td>\n",
       "      <td>yes(3)</td>\n",
       "      <td>Mallampet</td>\n",
       "      <td>hyderabad</td>\n",
       "    </tr>\n",
       "    <tr>\n",
       "      <th>1</th>\n",
       "      <td>2500</td>\n",
       "      <td>2000</td>\n",
       "      <td>1</td>\n",
       "      <td>independent</td>\n",
       "      <td>1</td>\n",
       "      <td>2</td>\n",
       "      <td>2</td>\n",
       "      <td>East</td>\n",
       "      <td>Semi-furnished</td>\n",
       "      <td>No</td>\n",
       "      <td>yes</td>\n",
       "      <td>Yes(1)</td>\n",
       "      <td>Parvatapuram, Peerzadiguda</td>\n",
       "      <td>hyderabad</td>\n",
       "    </tr>\n",
       "    <tr>\n",
       "      <th>2</th>\n",
       "      <td>2500</td>\n",
       "      <td>2250</td>\n",
       "      <td>1</td>\n",
       "      <td>independent</td>\n",
       "      <td>1</td>\n",
       "      <td>4</td>\n",
       "      <td>4</td>\n",
       "      <td>North</td>\n",
       "      <td>unfurnished</td>\n",
       "      <td>No</td>\n",
       "      <td>yes</td>\n",
       "      <td>yes(2)</td>\n",
       "      <td>Elephant Enclave, Sathyanarayanapuram, Nagaram</td>\n",
       "      <td>hyderabad</td>\n",
       "    </tr>\n",
       "    <tr>\n",
       "      <th>3</th>\n",
       "      <td>5771</td>\n",
       "      <td>5350</td>\n",
       "      <td>1</td>\n",
       "      <td>independent</td>\n",
       "      <td>2</td>\n",
       "      <td>8</td>\n",
       "      <td>8</td>\n",
       "      <td>East</td>\n",
       "      <td>unfurnished</td>\n",
       "      <td>No</td>\n",
       "      <td>yes</td>\n",
       "      <td>yes(2)</td>\n",
       "      <td>Jai Jawan Colony, Kapra</td>\n",
       "      <td>hyderabad</td>\n",
       "    </tr>\n",
       "    <tr>\n",
       "      <th>4</th>\n",
       "      <td>3500</td>\n",
       "      <td>3000</td>\n",
       "      <td>3</td>\n",
       "      <td>independent</td>\n",
       "      <td>2</td>\n",
       "      <td>6</td>\n",
       "      <td>6</td>\n",
       "      <td>West</td>\n",
       "      <td>unfurnished</td>\n",
       "      <td>No</td>\n",
       "      <td>yes</td>\n",
       "      <td>yes(2)</td>\n",
       "      <td>Ghatkesar</td>\n",
       "      <td>hyderabad</td>\n",
       "    </tr>\n",
       "  </tbody>\n",
       "</table>\n",
       "</div>"
      ],
      "text/plain": [
       "   TotalLandSize(Sq.Ft)  SlabareaofConstruction  BuildingAge(Years)  \\\n",
       "0                  3200                    2600                   4   \n",
       "1                  2500                    2000                   1   \n",
       "2                  2500                    2250                   1   \n",
       "3                  5771                    5350                   1   \n",
       "4                  3500                    3000                   3   \n",
       "\n",
       "     HouseType  FloorNumber  BHKcount  BathroomsCount MainDoorFacing  \\\n",
       "0  independent            1         3               3           East   \n",
       "1  independent            1         2               2           East   \n",
       "2  independent            1         4               4          North   \n",
       "3  independent            2         8               8           East   \n",
       "4  independent            2         6               6           West   \n",
       "\n",
       "        Furnishing DiningHallAvailability ParkingLotAvailability  \\\n",
       "0  Fully Furnished                    Yes                    yes   \n",
       "1   Semi-furnished                     No                    yes   \n",
       "2      unfurnished                     No                    yes   \n",
       "3      unfurnished                     No                    yes   \n",
       "4      unfurnished                     No                    yes   \n",
       "\n",
       "  BalconyAvailability                                 Locality/Street  \\\n",
       "0              yes(3)                                       Mallampet   \n",
       "1              Yes(1)                      Parvatapuram, Peerzadiguda   \n",
       "2              yes(2)  Elephant Enclave, Sathyanarayanapuram, Nagaram   \n",
       "3              yes(2)                         Jai Jawan Colony, Kapra   \n",
       "4              yes(2)                                       Ghatkesar   \n",
       "\n",
       "   City/Town  \n",
       "0  hyderabad  \n",
       "1  hyderabad  \n",
       "2  hyderabad  \n",
       "3  hyderabad  \n",
       "4  hyderabad  "
      ]
     },
     "execution_count": 22,
     "metadata": {},
     "output_type": "execute_result"
    }
   ],
   "source": [
    "train.head()"
   ]
  },
  {
   "cell_type": "code",
   "execution_count": 26,
   "id": "01860259",
   "metadata": {},
   "outputs": [],
   "source": [
    "labels=data['SellingPriceInCr']"
   ]
  },
  {
   "cell_type": "code",
   "execution_count": 27,
   "id": "d3bb7ca1",
   "metadata": {},
   "outputs": [],
   "source": [
    " from sklearn.model_selection import train_test_split"
   ]
  },
  {
   "cell_type": "code",
   "execution_count": 28,
   "id": "7257de48",
   "metadata": {},
   "outputs": [],
   "source": [
    "x_train,x_test,y_train,y_test=train_test_split(train,labels,test_size=0.1,random_state=2)"
   ]
  },
  {
   "cell_type": "code",
   "execution_count": 33,
   "id": "0d7c671e",
   "metadata": {},
   "outputs": [],
   "source": [
    "x_train,x_test=x_train.align(x_test,join='left',axis=1)"
   ]
  },
  {
   "cell_type": "code",
   "execution_count": 34,
   "id": "f0746785",
   "metadata": {},
   "outputs": [],
   "source": [
    "from sklearn.compose import ColumnTransformer\n",
    "from sklearn.impute import SimpleImputer\n",
    "from sklearn.metrics import mean_absolute_error"
   ]
  },
  {
   "cell_type": "code",
   "execution_count": 36,
   "id": "0dbcdae0",
   "metadata": {},
   "outputs": [
    {
     "data": {
      "text/plain": [
       "Index(['TotalLandSize(Sq.Ft)', 'SlabareaofConstruction', 'BuildingAge(Years)',\n",
       "       'FloorNumber', 'BHKcount', 'BathroomsCount'],\n",
       "      dtype='object')"
      ]
     },
     "execution_count": 36,
     "metadata": {},
     "output_type": "execute_result"
    }
   ],
   "source": [
    "x_train.select_dtypes(exclude=['object']).columns"
   ]
  },
  {
   "cell_type": "code",
   "execution_count": 37,
   "id": "f294f41f",
   "metadata": {},
   "outputs": [
    {
     "data": {
      "text/plain": [
       "Index(['HouseType', 'MainDoorFacing', 'Furnishing', 'DiningHallAvailability',\n",
       "       'ParkingLotAvailability', 'BalconyAvailability', 'Locality/Street',\n",
       "       'City/Town'],\n",
       "      dtype='object')"
      ]
     },
     "execution_count": 37,
     "metadata": {},
     "output_type": "execute_result"
    }
   ],
   "source": [
    "x_train.select_dtypes(include=['object']).columns"
   ]
  },
  {
   "cell_type": "code",
   "execution_count": 38,
   "id": "37075eec",
   "metadata": {},
   "outputs": [],
   "source": [
    "numerical_cols = list(x_train.select_dtypes(exclude=['object']).columns)\n",
    "categorical_cols = list(x_train.select_dtypes(include=['object']).columns)\n"
   ]
  },
  {
   "cell_type": "code",
   "execution_count": 39,
   "id": "2a3df71a",
   "metadata": {},
   "outputs": [
    {
     "data": {
      "text/plain": [
       "6"
      ]
     },
     "execution_count": 39,
     "metadata": {},
     "output_type": "execute_result"
    }
   ],
   "source": [
    "len(numerical_cols)"
   ]
  },
  {
   "cell_type": "code",
   "execution_count": 40,
   "id": "f53e09d7",
   "metadata": {},
   "outputs": [],
   "source": [
    "import numpy as np\n",
    "from sklearn.experimental import enable_iterative_imputer\n",
    "from sklearn.impute import IterativeImputer\n"
   ]
  },
  {
   "cell_type": "code",
   "execution_count": 41,
   "id": "41932919",
   "metadata": {},
   "outputs": [
    {
     "data": {
      "text/plain": [
       "IterativeImputer(random_state=0)"
      ]
     },
     "execution_count": 41,
     "metadata": {},
     "output_type": "execute_result"
    }
   ],
   "source": [
    "imputer = IterativeImputer(max_iter=10, random_state=0)\n",
    "imputer.fit(x_train[numerical_cols].values)\n"
   ]
  },
  {
   "cell_type": "code",
   "execution_count": 42,
   "id": "09cb5508",
   "metadata": {},
   "outputs": [],
   "source": [
    "x_train_mat = imputer.transform(x_train[numerical_cols].values)\n",
    "x_test_mat = imputer.transform(x_test[numerical_cols].values)\n"
   ]
  },
  {
   "cell_type": "code",
   "execution_count": 43,
   "id": "c4f1612f",
   "metadata": {},
   "outputs": [],
   "source": [
    "categorical_transformer = SimpleImputer(strategy='most_frequent')\n",
    "categorical_transformer.fit(x_train[categorical_cols])\n",
    "x_train_cat = categorical_transformer.transform(x_train[categorical_cols].values)\n",
    "x_test_cat = categorical_transformer.transform(x_test[categorical_cols].values) \n"
   ]
  },
  {
   "cell_type": "code",
   "execution_count": 44,
   "id": "4722a54d",
   "metadata": {},
   "outputs": [],
   "source": [
    "train_x = np.hstack((x_train_mat, x_train_cat))\n",
    "test_x= np.hstack((x_test_mat, x_test_cat))\n"
   ]
  },
  {
   "cell_type": "code",
   "execution_count": 45,
   "id": "a7821e97",
   "metadata": {},
   "outputs": [
    {
     "data": {
      "text/plain": [
       "array([[1175.0, 1050.0, 2.0, 4.0, 2.0, 1.0, 'Flat', 'West',\n",
       "        'Fully Furnished', 'yes', 'yes', 'yes(2)',\n",
       "        'Sri Chakri Constructions, Siva Sai Puram, Badangpet',\n",
       "        'hyderabad'],\n",
       "       [5150.0, 5150.0, 10.0, 3.0, 4.0, 4.0, 'Flat', 'North',\n",
       "        'Fully Furnished', 'Yes', 'yes', 'yes(2)',\n",
       "        'Vikrampuri, Karkhana', 'hyderabad'],\n",
       "       [540.0, 530.0, 6.0, 0.0, 1.0, 1.0, 'independent', 'South-West',\n",
       "        'unfurnished', 'No', 'yes', 'Yes(1)',\n",
       "        'ASBESTOS HOUSE, Asad Baba Nagar, Nandi Musalai Guda',\n",
       "        'hyderabad'],\n",
       "       [1184.0, 947.0, 1.0, 1.0, 1.0, 2.0, 'independent', 'West',\n",
       "        'unfurnished', 'yes', 'yes', 'yes(2)',\n",
       "        'SRS UDAYAGIRI VILLAS, Patancheru', 'hyderabad'],\n",
       "       [2700.0, 2100.0, 3.0, 1.0, 4.0, 5.0, 'independent', 'West',\n",
       "        'Semi-furnished', 'Yes', 'yes', 'yes(2)',\n",
       "        'ASR My Pearls, Gandipet', 'hyderabad'],\n",
       "       [5771.0, 5350.0, 1.0, 2.0, 8.0, 8.0, 'independent', 'East',\n",
       "        'unfurnished', 'No', 'yes', 'yes(2)', 'Jai Jawan Colony, Kapra',\n",
       "        'hyderabad'],\n",
       "       [1700.0, 1450.0, 1.0, 1.0, 3.0, 3.0, 'independent', 'East',\n",
       "        'unfurnished', 'Yes', 'yes', 'yes(3)',\n",
       "        'LANDMARK PATANCHERU, Patancheru', 'hyderabad'],\n",
       "       [3200.0, 3200.0, 1.0, 1.0, 4.0, 4.0, 'independent', 'East',\n",
       "        'Semi-furnished', 'Yes', 'yes', 'yes(2)',\n",
       "        'Jai Jawan Colony, Kapra', 'hyderabad'],\n",
       "       [3000.0, 2700.0, 4.0, 2.0, 4.0, 4.0, 'independent', 'West',\n",
       "        'Fully Furnished', 'Yes', 'yes', 'yes(2)', 'Yapral', 'hyderabad'],\n",
       "       [2700.0, 2300.0, 30.0, 2.0, 5.0, 4.0, 'independent', 'North',\n",
       "        'Semi-furnished', 'yes', 'yes', 'yes(4)',\n",
       "        'Jyothi Colony, Karkhana', 'hyderabad'],\n",
       "       [3500.0, 3000.0, 3.0, 2.0, 6.0, 6.0, 'independent', 'West',\n",
       "        'unfurnished', 'No', 'yes', 'yes(2)', 'Ghatkesar', 'hyderabad'],\n",
       "       [1000.0, 885.0, 1.0, 0.0, 2.0, 2.0, 'independent', 'North',\n",
       "        'unfurnished', 'No', 'yes', 'Yes(1)',\n",
       "        'Siva Sai Puram, Badangpet', 'hyderabad'],\n",
       "       [2400.0, 1900.0, 3.0, 1.0, 4.0, 4.0, 'independent', 'West',\n",
       "        'Semi-furnished', 'Yes', 'yes', 'yes(2)',\n",
       "        'ASR My Pearls, Gandipet', 'hyderabad'],\n",
       "       [5000.0, 4800.0, 9.0, 1.0, 4.0, 5.0, 'independent', 'East',\n",
       "        'Fully Furnished', 'yes', 'yes', 'yes(3)',\n",
       "        'JJ nagar, Defence Colony, Sainikpuri', 'hyderabad'],\n",
       "       [2500.0, 2250.0, 1.0, 1.0, 4.0, 4.0, 'independent', 'North',\n",
       "        'unfurnished', 'No', 'yes', 'yes(2)',\n",
       "        'Elephant Enclave, Sathyanarayanapuram, Nagaram', 'hyderabad'],\n",
       "       [2718.0, 2718.0, 1.0, 15.0, 4.0, 4.0, 'Flat', 'East',\n",
       "        'unfurnished', 'No', 'yes', 'yes(3)',\n",
       "        'Prestige High Fields, Financial District, Nanakaramguda',\n",
       "        'hyderabad'],\n",
       "       [2400.0, 2000.0, 1.0, 1.0, 4.0, 4.0, 'independent', 'East',\n",
       "        'unfurnished', 'Yes', 'yes', 'yes(2)',\n",
       "        'NR Infra Ultimus, Rameshwaram Banda', 'hyderabad'],\n",
       "       [1950.0, 1950.0, 2.0, 2.0, 4.0, 4.0, 'independent', 'West',\n",
       "        'unfurnished', 'No', 'yes', 'yes(2)',\n",
       "        'Subhash Nagar, Trimalgherry', 'hyderabad'],\n",
       "       [560.0, 460.0, 22.0, 2.0, 1.0, 1.0, 'Flat', 'East', 'unfurnished',\n",
       "        'Yes', 'No', 'yes(2)',\n",
       "        'Prajay Avenue I and II, Bharat Nagar, Amberpet', 'hyderabad'],\n",
       "       [3000.0, 2500.0, 30.0, 0.0, 5.0, 5.0, 'independent', 'South-West',\n",
       "        'Semi-furnished', 'Yes', 'yes', 'yes(3)',\n",
       "        'Adda Gutta, East Marredpally', 'hyderabad'],\n",
       "       [8000.0, 7000.0, 15.0, 2.0, 8.0, 6.0, 'independent', 'East',\n",
       "        'Semi-furnished', 'Yes', 'yes', 'yes(3)',\n",
       "        'Kalyana puri, Kalyanpuri, Uppal', 'hyderabad'],\n",
       "       [2800.0, 2800.0, 2.0, 4.0, 4.0, 5.0, 'Flat', 'East',\n",
       "        'Semi-furnished', 'Yes', 'yes', 'yes(3)',\n",
       "        'GK Pride, Golf Pride Homes, Yapral', 'hyderabad'],\n",
       "       [3620.0, 3620.0, 5.0, 5.0, 4.0, 4.0, 'Flat', 'East',\n",
       "        'Fully Furnished', 'yes', 'yes', 'yes(2)',\n",
       "        'aashry luxuria, Adda Gutta, East Marredpally', 'hyderabad'],\n",
       "       [1100.0, 925.0, 1.0, 4.0, 2.0, 2.0, 'Flat', 'North',\n",
       "        'Fully Furnished', 'yes', 'yes', 'Yes(1)',\n",
       "        'NMR Aashrith, Turkayamjal', 'hyderabad'],\n",
       "       [1450.0, 1100.0, 1.0, 1.0, 2.0, 2.0, 'independent', 'North-West',\n",
       "        'Semi-furnished', 'Yes', 'yes', 'Yes(1)',\n",
       "        'Parvathapuram, Peerzadiguda', 'hyderabad']], dtype=object)"
      ]
     },
     "execution_count": 45,
     "metadata": {},
     "output_type": "execute_result"
    }
   ],
   "source": [
    "train_x"
   ]
  },
  {
   "cell_type": "code",
   "execution_count": 69,
   "id": "129e6991",
   "metadata": {},
   "outputs": [
    {
     "data": {
      "text/plain": [
       "array([[2500.0, 2000.0, 1.0, 1.0, 2.0, 2.0, 'independent', 'East',\n",
       "        'Semi-furnished', 'No', 'yes', 'Yes(1)',\n",
       "        'Parvatapuram, Peerzadiguda', 'hyderabad'],\n",
       "       [3200.0, 2600.0, 4.0, 1.0, 3.0, 3.0, 'independent', 'East',\n",
       "        'Fully Furnished', 'Yes', 'yes', 'yes(3)', 'Mallampet',\n",
       "        'hyderabad'],\n",
       "       [1100.0, 1100.0, 9.0, 5.0, 2.0, 2.0, 'Flat', 'West',\n",
       "        'Semi-furnished', 'yes', 'yes', 'yes(2)',\n",
       "        'Maram Seshaiah Rathnam Heights, Indira Nagar, Vanasthalipuram',\n",
       "        'hyderabad']], dtype=object)"
      ]
     },
     "execution_count": 69,
     "metadata": {},
     "output_type": "execute_result"
    }
   ],
   "source": [
    "test_x"
   ]
  },
  {
   "cell_type": "code",
   "execution_count": 70,
   "id": "7fc9315b",
   "metadata": {},
   "outputs": [
    {
     "data": {
      "text/html": [
       "<div>\n",
       "<style scoped>\n",
       "    .dataframe tbody tr th:only-of-type {\n",
       "        vertical-align: middle;\n",
       "    }\n",
       "\n",
       "    .dataframe tbody tr th {\n",
       "        vertical-align: top;\n",
       "    }\n",
       "\n",
       "    .dataframe thead th {\n",
       "        text-align: right;\n",
       "    }\n",
       "</style>\n",
       "<table border=\"1\" class=\"dataframe\">\n",
       "  <thead>\n",
       "    <tr style=\"text-align: right;\">\n",
       "      <th></th>\n",
       "      <th>TotalLandSize(Sq.Ft)</th>\n",
       "      <th>SlabareaofConstruction</th>\n",
       "      <th>BuildingAge(Years)</th>\n",
       "      <th>FloorNumber</th>\n",
       "      <th>BHKcount</th>\n",
       "      <th>BathroomsCount</th>\n",
       "      <th>HouseType</th>\n",
       "      <th>MainDoorFacing</th>\n",
       "      <th>Furnishing</th>\n",
       "      <th>DiningHallAvailability</th>\n",
       "      <th>ParkingLotAvailability</th>\n",
       "      <th>BalconyAvailability</th>\n",
       "      <th>Locality/Street</th>\n",
       "      <th>City/Town</th>\n",
       "    </tr>\n",
       "  </thead>\n",
       "  <tbody>\n",
       "    <tr>\n",
       "      <th>1</th>\n",
       "      <td>2500.0</td>\n",
       "      <td>2000.0</td>\n",
       "      <td>1.0</td>\n",
       "      <td>1.0</td>\n",
       "      <td>2.0</td>\n",
       "      <td>2.0</td>\n",
       "      <td>independent</td>\n",
       "      <td>East</td>\n",
       "      <td>Semi-furnished</td>\n",
       "      <td>No</td>\n",
       "      <td>yes</td>\n",
       "      <td>Yes(1)</td>\n",
       "      <td>Parvatapuram, Peerzadiguda</td>\n",
       "      <td>hyderabad</td>\n",
       "    </tr>\n",
       "    <tr>\n",
       "      <th>0</th>\n",
       "      <td>3200.0</td>\n",
       "      <td>2600.0</td>\n",
       "      <td>4.0</td>\n",
       "      <td>1.0</td>\n",
       "      <td>3.0</td>\n",
       "      <td>3.0</td>\n",
       "      <td>independent</td>\n",
       "      <td>East</td>\n",
       "      <td>Fully Furnished</td>\n",
       "      <td>Yes</td>\n",
       "      <td>yes</td>\n",
       "      <td>yes(3)</td>\n",
       "      <td>Mallampet</td>\n",
       "      <td>hyderabad</td>\n",
       "    </tr>\n",
       "    <tr>\n",
       "      <th>14</th>\n",
       "      <td>1100.0</td>\n",
       "      <td>1100.0</td>\n",
       "      <td>9.0</td>\n",
       "      <td>5.0</td>\n",
       "      <td>2.0</td>\n",
       "      <td>2.0</td>\n",
       "      <td>Flat</td>\n",
       "      <td>West</td>\n",
       "      <td>Semi-furnished</td>\n",
       "      <td>yes</td>\n",
       "      <td>yes</td>\n",
       "      <td>yes(2)</td>\n",
       "      <td>Maram Seshaiah Rathnam Heights, Indira Nagar, ...</td>\n",
       "      <td>hyderabad</td>\n",
       "    </tr>\n",
       "  </tbody>\n",
       "</table>\n",
       "</div>"
      ],
      "text/plain": [
       "   TotalLandSize(Sq.Ft) SlabareaofConstruction BuildingAge(Years) FloorNumber  \\\n",
       "1                2500.0                 2000.0                1.0         1.0   \n",
       "0                3200.0                 2600.0                4.0         1.0   \n",
       "14               1100.0                 1100.0                9.0         5.0   \n",
       "\n",
       "   BHKcount BathroomsCount    HouseType MainDoorFacing       Furnishing  \\\n",
       "1       2.0            2.0  independent           East   Semi-furnished   \n",
       "0       3.0            3.0  independent           East  Fully Furnished   \n",
       "14      2.0            2.0         Flat           West   Semi-furnished   \n",
       "\n",
       "   DiningHallAvailability ParkingLotAvailability BalconyAvailability  \\\n",
       "1                      No                    yes              Yes(1)   \n",
       "0                     Yes                    yes              yes(3)   \n",
       "14                    yes                    yes              yes(2)   \n",
       "\n",
       "                                      Locality/Street  City/Town  \n",
       "1                          Parvatapuram, Peerzadiguda  hyderabad  \n",
       "0                                           Mallampet  hyderabad  \n",
       "14  Maram Seshaiah Rathnam Heights, Indira Nagar, ...  hyderabad  "
      ]
     },
     "execution_count": 70,
     "metadata": {},
     "output_type": "execute_result"
    }
   ],
   "source": [
    "train_x_df = pd.DataFrame(train_x, columns = numerical_cols + categorical_cols, index = x_train.index)\n",
    "test_x_df = pd.DataFrame(test_x, columns = numerical_cols + categorical_cols, index = x_test.index)\n",
    "train_x_df.head()\n",
    "test_x_df.head()"
   ]
  },
  {
   "cell_type": "code",
   "execution_count": 48,
   "id": "e7b3b83a",
   "metadata": {},
   "outputs": [
    {
     "data": {
      "text/plain": [
       "0"
      ]
     },
     "execution_count": 48,
     "metadata": {},
     "output_type": "execute_result"
    }
   ],
   "source": [
    "train_x_df.isnull().sum().sum()"
   ]
  },
  {
   "cell_type": "code",
   "execution_count": 49,
   "id": "d806b61b",
   "metadata": {},
   "outputs": [
    {
     "name": "stdout",
     "output_type": "stream",
     "text": [
      "HouseType 2\n",
      "MainDoorFacing 5\n",
      "Furnishing 3\n",
      "DiningHallAvailability 3\n",
      "ParkingLotAvailability 2\n",
      "BalconyAvailability 4\n",
      "Locality/Street 23\n",
      "City/Town 1\n"
     ]
    }
   ],
   "source": [
    "embed_cols=[i for i in categorical_cols]\n",
    "\n",
    "for i in embed_cols:\n",
    "    print(i,train_x_df[i].nunique())\n"
   ]
  },
  {
   "cell_type": "code",
   "execution_count": 50,
   "id": "96672c64",
   "metadata": {},
   "outputs": [
    {
     "data": {
      "text/plain": [
       "TotalLandSize(Sq.Ft)      object\n",
       "SlabareaofConstruction    object\n",
       "BuildingAge(Years)        object\n",
       "FloorNumber               object\n",
       "BHKcount                  object\n",
       "BathroomsCount            object\n",
       "HouseType                 object\n",
       "MainDoorFacing            object\n",
       "Furnishing                object\n",
       "DiningHallAvailability    object\n",
       "ParkingLotAvailability    object\n",
       "BalconyAvailability       object\n",
       "Locality/Street           object\n",
       "City/Town                 object\n",
       "dtype: object"
      ]
     },
     "execution_count": 50,
     "metadata": {},
     "output_type": "execute_result"
    }
   ],
   "source": [
    "train_x_df.dtypes"
   ]
  },
  {
   "cell_type": "code",
   "execution_count": 52,
   "id": "7f1b7eb0",
   "metadata": {},
   "outputs": [],
   "source": [
    "for col in categorical_cols:\n",
    "    train_x_df[col] = train_x_df[col].astype(str)\n",
    "    test_x_df[col] = test_x_df[col].astype(str)\n"
   ]
  },
  {
   "cell_type": "code",
   "execution_count": 53,
   "id": "0ad0ce06",
   "metadata": {},
   "outputs": [],
   "source": [
    "from catboost import CatBoostRegressor"
   ]
  },
  {
   "cell_type": "code",
   "execution_count": 112,
   "id": "8cfa1351",
   "metadata": {},
   "outputs": [],
   "source": [
    "model=CatBoostRegressor(iterations=1000, learning_rate=0.1,  loss_function='RMSE', logging_level='Silent')"
   ]
  },
  {
   "cell_type": "code",
   "execution_count": 113,
   "id": "684b70d2",
   "metadata": {},
   "outputs": [
    {
     "data": {
      "application/vnd.jupyter.widget-view+json": {
       "model_id": "019cd88c45cd4cdfafb36a5009dab9b4",
       "version_major": 2,
       "version_minor": 0
      },
      "text/plain": [
       "MetricVisualizer(layout=Layout(align_self='stretch', height='500px'))"
      ]
     },
     "metadata": {},
     "output_type": "display_data"
    },
    {
     "data": {
      "text/plain": [
       "<catboost.core.CatBoostRegressor at 0x20d21949250>"
      ]
     },
     "execution_count": 113,
     "metadata": {},
     "output_type": "execute_result"
    }
   ],
   "source": [
    "model.fit(train_x_df,y_train,cat_features=categorical_cols,eval_set=(test_x_df,y_test),plot=True)"
   ]
  },
  {
   "cell_type": "code",
   "execution_count": 74,
   "id": "fd475de5",
   "metadata": {},
   "outputs": [],
   "source": [
    "from sklearn.metrics import mean_absolute_error"
   ]
  },
  {
   "cell_type": "code",
   "execution_count": 114,
   "id": "60182dd2",
   "metadata": {},
   "outputs": [
    {
     "name": "stdout",
     "output_type": "stream",
     "text": [
      "Mean Absolute Error: 0.607646539809298\n"
     ]
    }
   ],
   "source": [
    "print(\"Mean Absolute Error: \" + str(mean_absolute_error(predictions, y_test)))"
   ]
  },
  {
   "cell_type": "code",
   "execution_count": 115,
   "id": "3fdf0c2e",
   "metadata": {},
   "outputs": [],
   "source": [
    "preds_test = model.predict(test_x_df)"
   ]
  },
  {
   "cell_type": "code",
   "execution_count": 116,
   "id": "fc5a3845",
   "metadata": {},
   "outputs": [
    {
     "data": {
      "text/plain": [
       "array([1.55629551, 1.86930945, 1.42367551])"
      ]
     },
     "execution_count": 116,
     "metadata": {},
     "output_type": "execute_result"
    }
   ],
   "source": [
    "preds_test"
   ]
  },
  {
   "cell_type": "code",
   "execution_count": 64,
   "id": "9db316f8",
   "metadata": {},
   "outputs": [],
   "source": [
    "output = pd.DataFrame({'Id': test_x_df.index,\n",
    "                       'SalePrice': preds_test})\n"
   ]
  },
  {
   "cell_type": "code",
   "execution_count": 66,
   "id": "8d97e515",
   "metadata": {},
   "outputs": [],
   "source": [
    "output.to_csv('submission.csv', index=False)"
   ]
  }
 ],
 "metadata": {
  "kernelspec": {
   "display_name": "Python 3 (ipykernel)",
   "language": "python",
   "name": "python3"
  },
  "language_info": {
   "codemirror_mode": {
    "name": "ipython",
    "version": 3
   },
   "file_extension": ".py",
   "mimetype": "text/x-python",
   "name": "python",
   "nbconvert_exporter": "python",
   "pygments_lexer": "ipython3",
   "version": "3.9.7"
  }
 },
 "nbformat": 4,
 "nbformat_minor": 5
}
